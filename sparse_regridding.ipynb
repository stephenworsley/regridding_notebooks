{
 "cells": [
  {
   "cell_type": "code",
   "execution_count": 6,
   "metadata": {},
   "outputs": [],
   "source": [
    "# This notebook requires an unreleased version of sparse which exists in GitHub\n",
    "import numpy as np\n",
    "import sparse\n",
    "\n",
    "import time"
   ]
  },
  {
   "cell_type": "code",
   "execution_count": 1,
   "metadata": {},
   "outputs": [],
   "source": [
    "def compare_bounds(l1,l2):\n",
    "    N1 = l1.shape[0]\n",
    "    N2 = l2.shape[0]\n",
    "    i = 0\n",
    "    j = 0\n",
    "\n",
    "    sparse_data = []\n",
    "    sparse_inds = []\n",
    "\n",
    "    while i < N1 and j < N2:\n",
    "        inds = (i,j)\n",
    "        ta = l2[j,1] - l2[j,0]\n",
    "\n",
    "        if l1[i,1] < l2[j,1]:\n",
    "            if l1[i,1] < l2[j,0]:\n",
    "                so = 0\n",
    "            elif l1[i,0] < l2[j,0]:\n",
    "                so = l1[i,1] - l2[j,0]\n",
    "            else:\n",
    "                so = l1[i,1] - l1[i,0]\n",
    "            i += 1\n",
    "        elif l1[i,1] > l2[j,1]:\n",
    "            if l1[i,0] > l2[j,1]:\n",
    "                so = 0\n",
    "            elif l1[i,0] < l2[j,0]:\n",
    "                so = l2[j,1] - l2[j,0]\n",
    "            else:\n",
    "                so = l2[j,1] - l1[i,0]\n",
    "            j += 1\n",
    "        else:\n",
    "            if l1[i, 0] < l2[j, 0]:\n",
    "                so = l2[j, 1] - l2[j, 0]\n",
    "            else:\n",
    "                so = l2[j, 1] - l1[i, 0]\n",
    "            i += 1\n",
    "            j += 1\n",
    "\n",
    "        frac = so/ta\n",
    "        sparse_data.append(frac)\n",
    "        sparse_inds.append(inds)\n",
    "\n",
    "    coords = np.array(sparse_inds).T\n",
    "    data = np.array(sparse_data)\n",
    "    shape = (N1, N2)\n",
    "    sp_array = sparse.COO(coords, data=data, shape=shape)\n",
    "    return sp_array"
   ]
  },
  {
   "cell_type": "code",
   "execution_count": 2,
   "metadata": {},
   "outputs": [],
   "source": [
    "def combine_arrays(lon_array, lat_array):\n",
    "    sx, tx = lon_array.shape\n",
    "    sy, ty = lat_array.shape\n",
    "    combo_array = sparse.outer(lon_array, lat_array).transpose([2,0,3,1]).reshape([sx*sy, tx*ty])\n",
    "    return combo_array.tocsr()"
   ]
  },
  {
   "cell_type": "code",
   "execution_count": 3,
   "metadata": {},
   "outputs": [],
   "source": [
    "def find_weights(lons1, lons2, lats1, lats2):\n",
    "    \n",
    "    # Account for spherical geometry\n",
    "    transformed_lat1 = np.sin(lats1*np.pi/180)\n",
    "    transformed_lat2 = np.sin(lats2*np.pi/180)\n",
    "    \n",
    "    # If grids are cartesian\n",
    "    #\n",
    "    # transformed_lat1 = lats1\n",
    "    # transformed_lat2 = lats2\n",
    "    \n",
    "    lat_array = compare_bounds(transformed_lat1,transformed_lat2)\n",
    "    lon_array = compare_bounds(lons1, lons2)\n",
    "    \n",
    "    combo = combine_arrays(lon_array, lat_array)\n",
    "    return combo"
   ]
  },
  {
   "cell_type": "code",
   "execution_count": 4,
   "metadata": {},
   "outputs": [],
   "source": [
    "def regrid(array, lons1, lons2, lats1, lats2):\n",
    "    x = lons2.shape[0]\n",
    "    y = lats2.shape[0]\n",
    "\n",
    "    weights = find_weights(lons1, lons2, lats1, lats2)\n",
    "\n",
    "    flat_out = weights.T*array.flatten()[:,np.newaxis]\n",
    "    out = flat_out.reshape([x, y])\n",
    "    return out"
   ]
  },
  {
   "cell_type": "code",
   "execution_count": 7,
   "metadata": {},
   "outputs": [],
   "source": [
    "# Construct lat-lon bounds\n",
    "\n",
    "x1 = 1000\n",
    "y1 = 1200\n",
    "\n",
    "x2 = 2000\n",
    "y2 = 3000\n",
    "\n",
    "lons1 = np.linspace(-180,180,x1 +1)\n",
    "lonbnds1 = np.stack([lons1[:-1],lons1[1:]]).T\n",
    "lons2 = np.linspace(-180,180,x2 +1)\n",
    "lonbnds2 = np.stack([lons2[:-1],lons2[1:]]).T\n",
    "\n",
    "\n",
    "lats1 = np.linspace(-90,90,y1 +1)\n",
    "latbnds1 = np.stack([lats1[:-1],lats1[1:]]).T\n",
    "lats2 = np.linspace(-90,90,y2 +1)\n",
    "latbnds2 = np.stack([lats2[:-1],lats2[1:]]).T\n",
    "\n",
    "# Construct data to regrid\n",
    "\n",
    "array = np.array(range(x1*y1)).reshape([x1,y1])"
   ]
  },
  {
   "cell_type": "code",
   "execution_count": null,
   "metadata": {},
   "outputs": [],
   "source": [
    "# Perform regridding\n",
    "\n",
    "out = regrid(array,lonbnds1,lonbnds2,latbnds1,latbnds2)"
   ]
  }
 ],
 "metadata": {
  "kernelspec": {
   "display_name": "Python 3",
   "language": "python",
   "name": "python3"
  },
  "language_info": {
   "codemirror_mode": {
    "name": "ipython",
    "version": 3
   },
   "file_extension": ".py",
   "mimetype": "text/x-python",
   "name": "python",
   "nbconvert_exporter": "python",
   "pygments_lexer": "ipython3",
   "version": "3.8.1"
  }
 },
 "nbformat": 4,
 "nbformat_minor": 4
}
