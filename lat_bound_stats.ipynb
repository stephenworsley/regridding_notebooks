{
 "cells": [
  {
   "cell_type": "code",
   "execution_count": 1,
   "metadata": {},
   "outputs": [],
   "source": [
    "# This notebook was run with ESMPy version 8.0.0\n",
    "import ESMF\n",
    "import xesmf as xe\n",
    "import numpy as np\n",
    "import time\n",
    "import scipy.sparse"
   ]
  },
  {
   "cell_type": "code",
   "execution_count": 7,
   "metadata": {},
   "outputs": [],
   "source": [
    "# Convenience function for constructing an ESMF Mesh\n",
    "\n",
    "def create_mesh(lons, lats, lon_res, lat_res):\n",
    "    mesh = ESMF.Mesh(parametric_dim=2, spatial_dim=2, coord_sys=ESMF.constants.CoordSys.SPH_DEG)\n",
    "    num_node = (lat_res+1)*(lon_res+1)\n",
    "    num_elem = lat_res*lon_res\n",
    "    nodeId = np.array([x+1 for x in range(num_node)])\n",
    "    nodeCoord = np.stack([lons.T, lats.T]).flatten(\"F\")\n",
    "    nodeOwner = np.zeros(num_node)\n",
    "    elemId = np.array([x+1 for x in range(num_elem)])\n",
    "    elemType = np.array([ESMF.MeshElemType.QUAD for _ in range(num_elem)])\n",
    "    elemConn = np.array([(x//lon_res)*(lon_res+1) + x%lon_res + h for x in range(num_elem) for h in [0, 1, lon_res+2, lon_res+1]])\n",
    "    mesh.add_nodes(num_node, nodeId, nodeCoord, nodeOwner)\n",
    "    mesh.add_elements(num_elem, elemId, elemType, elemConn)\n",
    "    return mesh"
   ]
  },
  {
   "cell_type": "code",
   "execution_count": 3,
   "metadata": {},
   "outputs": [],
   "source": [
    "# Create a mesh that covers the chosen latitudes with a desired number of cells\n",
    "\n",
    "def create_lat_bound_mesh(lower, upper, resolution=400):\n",
    "    lons = np.linspace(-180, 180, resolution + 1)\n",
    "    lons = lons[:, np.newaxis] * np.ones([2])\n",
    "    lonsflat = lons.flatten()\n",
    "    lats = np.ones([resolution + 1])[:, np.newaxis] * np.array([lower, upper])\n",
    "    latsflat = lats.flatten()\n",
    "    mesh = ESMF.Mesh(parametric_dim=2, spatial_dim=2, coord_sys=ESMF.constants.CoordSys.SPH_DEG)\n",
    "    num_node = resolution*2+2\n",
    "    num_elem = resolution\n",
    "    nodeId = np.array([x+1 for x in range(num_node)])\n",
    "    nodeCoord = np.stack([lonsflat.T, latsflat.T]).flatten(\"F\")\n",
    "    nodeOwner = np.zeros(num_node)\n",
    "    elemId = np.array([x+1 for x in range(num_elem)])\n",
    "    elemType = np.array([[4 for _ in range(num_elem)]])\n",
    "    elemConn = np.array([2*x + c for x in range(resolution) for c in [1,0,2,3]])\n",
    "    mesh.add_nodes(num_node, nodeId, nodeCoord, nodeOwner)\n",
    "    mesh.add_elements(num_elem, elemId, elemType, elemConn)\n",
    "    return mesh"
   ]
  },
  {
   "cell_type": "code",
   "execution_count": 4,
   "metadata": {},
   "outputs": [],
   "source": [
    "# Define weighted statistics\n",
    "\n",
    "def mean(data, weights):\n",
    "    w_sum = weights.sum()\n",
    "    return (data*weights).sum()/w_sum\n",
    "\n",
    "def w_median(data, weights):\n",
    "    sorter = np.argsort(data)\n",
    "    s_data = data[sorter]\n",
    "    s_weights = weights.flatten()[sorter].cumsum()\n",
    "    i = np.where(s_weights > s_weights.max()/2)[0].min()\n",
    "    return s_data[i]"
   ]
  },
  {
   "cell_type": "code",
   "execution_count": 5,
   "metadata": {},
   "outputs": [],
   "source": [
    "# Apply a weighted statistic over a given latitude bound\n",
    "\n",
    "def lat_stat(field, bounds, stat=mean, resolution=400):\n",
    "    mesh = create_lat_bound_mesh(bounds[0], bounds[1], resolution)\n",
    "    target_f = ESMF.Field(mesh, meshloc=ESMF.MeshLoc.ELEMENT)\n",
    "    regridder = ESMF.Regrid(field, target_f, regrid_method=ESMF.RegridMethod.CONSERVE,\n",
    "                            ignore_degenerate=False,\n",
    "                            unmapped_action=ESMF.UnmappedAction.IGNORE,\n",
    "                            norm_type=ESMF.api.constants.NormType.DSTAREA,\n",
    "                            factors=True)\n",
    "    weights = regridder.get_weights_dict(deep_copy=True)\n",
    "    regridder.destroy()\n",
    "    area_f = ESMF.Field(mesh, meshloc=ESMF.MeshLoc.ELEMENT)\n",
    "    area_f.get_area()\n",
    "    matrix = scipy.sparse.csr_matrix((weights[\"weights\"], (weights[\"row_dst\"]-1, weights[\"col_src\"]-1)), shape=(resolution, len(field.data)))\n",
    "    area_adjust = scipy.sparse.csr_matrix((area_f.data.flatten(), ([0 for _ in range(resolution)], list(range(resolution)))), shape=(1, resolution))\n",
    "    final_weights = (area_adjust*matrix).toarray()\n",
    "    return stat(field.data, final_weights)"
   ]
  },
  {
   "cell_type": "code",
   "execution_count": 10,
   "metadata": {},
   "outputs": [],
   "source": [
    "# Construct the ESMF Field to be regridded\n",
    "\n",
    "lon_res = 1000\n",
    "lat_res = 1000\n",
    "extent = 25\n",
    "\n",
    "lons, lats = np.meshgrid(np.linspace(-extent, extent, num=lon_res+1), np.linspace(-extent, extent, num=lat_res+1))\n",
    "\n",
    "src_mesh = create_mesh(lons, lats, lon_res, lat_res)\n",
    "\n",
    "src_field = ESMF.Field(src_mesh, meshloc=ESMF.MeshLoc.ELEMENT)\n",
    "\n",
    "src_field.data[:] = np.array(range(len(src_field.data)))"
   ]
  },
  {
   "cell_type": "code",
   "execution_count": 12,
   "metadata": {},
   "outputs": [
    {
     "name": "stdout",
     "output_type": "stream",
     "text": [
      "Resolution: 4\n",
      "\n",
      "grid method\n",
      "Mean: 350372.7970952477\n",
      "Time taken: 5.165668964385986\n",
      "\n",
      "Median: 350805.0\n",
      "Time taken: 4.7773473262786865\n",
      "\n",
      "\n",
      "Resolution: 10\n",
      "\n",
      "grid method\n",
      "Mean: 350376.9337357486\n",
      "Time taken: 4.789089679718018\n",
      "\n",
      "Median: 350809.0\n",
      "Time taken: 4.796271085739136\n",
      "\n",
      "\n",
      "Resolution: 40\n",
      "\n",
      "grid method\n",
      "Mean: 350561.66135593783\n",
      "Time taken: 4.8612220287323\n",
      "\n",
      "Median: 350993.0\n",
      "Time taken: 4.826596021652222\n",
      "\n",
      "\n",
      "Resolution: 100\n",
      "\n",
      "grid method\n",
      "Mean: 350815.3744050493\n",
      "Time taken: 5.869265794754028\n",
      "\n",
      "Median: 351244.0\n",
      "Time taken: 5.701635122299194\n",
      "\n",
      "\n",
      "Resolution: 400\n",
      "\n",
      "grid method\n",
      "Mean: 350859.2353558041\n",
      "Time taken: 10.692472219467163\n",
      "\n",
      "Median: 351287.0\n",
      "Time taken: 10.56484341621399\n",
      "\n",
      "\n"
     ]
    }
   ],
   "source": [
    "# Perform regridding for for different resolutions and different statistics\n",
    "\n",
    "for res in [4, 10, 40, 100, 400]:\n",
    "    t = time.time()\n",
    "    print(f\"Resolution: {res}\")\n",
    "    print(\"\")\n",
    "    t = time.time()\n",
    "    print(\"grid method\")\n",
    "    print(f\"Mean: {lat_stat(src_field, (-15,0), resolution=res)}\")\n",
    "    print(f\"Time taken: {time.time()-t}\")\n",
    "    print(\"\")\n",
    "    t = time.time()\n",
    "    print(f\"Median: {lat_stat(src_field, (-15,0), stat=w_median, resolution=res)}\")\n",
    "    print(f\"Time taken: {time.time()-t}\")\n",
    "    print(\"\")\n",
    "    print(\"\")"
   ]
  },
  {
   "cell_type": "code",
   "execution_count": null,
   "metadata": {},
   "outputs": [],
   "source": []
  }
 ],
 "metadata": {
  "kernelspec": {
   "display_name": "Python 3",
   "language": "python",
   "name": "python3"
  },
  "language_info": {
   "codemirror_mode": {
    "name": "ipython",
    "version": 3
   },
   "file_extension": ".py",
   "mimetype": "text/x-python",
   "name": "python",
   "nbconvert_exporter": "python",
   "pygments_lexer": "ipython3",
   "version": "3.8.1"
  }
 },
 "nbformat": 4,
 "nbformat_minor": 2
}
